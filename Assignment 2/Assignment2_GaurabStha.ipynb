{
 "cells": [
  {
   "cell_type": "code",
   "execution_count": null,
   "id": "2be27c26",
   "metadata": {},
   "outputs": [],
   "source": [
    "Here, I have used Regtest \n",
    "\n",
    "The Regression Test Network (regtest) is a parallel blockchain to the Bitcoin blockchain. \n",
    "It works almost identically to the Bitcoin network, but it is used for private development. \n",
    "Regtest is most similar to testnet in that the coins on the regtest network are not monetized.\n",
    "\n",
    "The motive of this assignment is to get familiar with Bitcoin Network using Bitcoin RPC.\n",
    "\n",
    "Steps Followed:\n",
    "    Part 1:\n",
    "    1. Initialized bitcoin regtest daemon.\n",
    "    2. Created a wallet named GaurabStha.\n",
    "    3. Checked wallet initial balance, which should be 0.\n",
    "    4. Get the address of the wallet to mine some blocks(here i have done mining of 100 blocks) to obtain coin.\n",
    "    5. Get wallet info.\n",
    "    \n",
    "    Part 2:\n",
    "    2. Created a wallet 2nd named SabinStha.\n",
    "    3. Checked wallet initial balance, which should be 0.\n",
    "    4. Get the address of the wallet to do transaction from 1st wallet to this wallet.\n",
    "    5. Set some transaction fee.\n",
    "    6. Do the transaction from GaurabStha wallet to SabinStha.\n",
    "    5. Get wallet info of both wallets.\n",
    "        "
   ]
  },
  {
   "cell_type": "code",
   "execution_count": 10,
   "id": "c6b66e7b",
   "metadata": {},
   "outputs": [],
   "source": [
    "#Instantiate a wallet name\n",
    "WALLET_NAME = \"GaurabStha\""
   ]
  },
  {
   "cell_type": "code",
   "execution_count": 11,
   "id": "f5332ba8",
   "metadata": {},
   "outputs": [
    {
     "name": "stdout",
     "output_type": "stream",
     "text": [
      "Error: Cannot obtain a lock on data directory /home/joyboy/.bitcoin/regtest. Bitcoin Core is probably already running.\r\n"
     ]
    }
   ],
   "source": [
    "#Run regtest daemon\n",
    "!bitcoind -regtest -daemon"
   ]
  },
  {
   "cell_type": "code",
   "execution_count": 12,
   "id": "0622e657",
   "metadata": {},
   "outputs": [
    {
     "name": "stdout",
     "output_type": "stream",
     "text": [
      "error code: -4\r\n",
      "error message:\r\n",
      "Wallet GaurabStha already exists.\r\n"
     ]
    }
   ],
   "source": [
    "# create a new wallet\n",
    "!bitcoin-cli -regtest createwallet $WALLET_NAME false"
   ]
  },
  {
   "cell_type": "code",
   "execution_count": 13,
   "id": "c42447ab",
   "metadata": {},
   "outputs": [
    {
     "name": "stdout",
     "output_type": "stream",
     "text": [
      "0.00000000\r\n"
     ]
    }
   ],
   "source": [
    "# check balance\n",
    "!bitcoin-cli -regtest -rpcwallet=$WALLET_NAME getbalance"
   ]
  },
  {
   "cell_type": "code",
   "execution_count": 14,
   "id": "5962c74a",
   "metadata": {},
   "outputs": [
    {
     "name": "stdout",
     "output_type": "stream",
     "text": [
      "bcrt1qdxcqx57uqr4useugqk3m3qs0xu7skxfc6cdsm6\r\n"
     ]
    }
   ],
   "source": [
    "#Get the address of the wallet\n",
    "!bitcoin-cli -regtest -rpcwallet=$WALLET_NAME getnewaddress"
   ]
  },
  {
   "cell_type": "code",
   "execution_count": 15,
   "id": "b6376cf4",
   "metadata": {},
   "outputs": [
    {
     "name": "stdout",
     "output_type": "stream",
     "text": [
      "[\r\n",
      "  \"31c9ccb9c0f3a4b28e7bccefe0e80119c34b68f7916c3fd6f0f5f4d0593c205d\",\r\n",
      "  \"3a7c2ae0653dc3b93a34c410a634c192f07379d31ae91fde29a144c293ad03c4\",\r\n",
      "  \"0eb1704cfbbcc358739f7aa3225926052950ad366242e168c7de45942099b745\",\r\n",
      "  \"577f2228d7a8f1926597f56d56d9bd65f8d4672afd482d5236a0d3e441b734dd\",\r\n",
      "  \"7e0e2b1124f8116bc10af0eaec4b075f2309ce9397e3279dd5e7a6a8efbbdf28\",\r\n",
      "  \"371890f57cbadbee76563bd6b6cb34c422f927ad3a538348da699d91edc09591\",\r\n",
      "  \"7622a8967bccfadebc2bd3c969e4850a82330314d2e2fa0946120c9a3135084e\",\r\n",
      "  \"0d502d343e3a88ae6326d022a29e552971c063b1d376108b7a20e554b3068ab0\",\r\n",
      "  \"66270ac6c5b94993fbd4c779f4aac6892c07a22a4b921a263843c1032a892ad0\",\r\n",
      "  \"4f80fd013e1c0823f4cc3466b62791e0007b610fae43d666c03ca493b74c4a25\",\r\n",
      "  \"6278ce5937eebcdf58a97bb935a66e3509338731a5567820e889eb72990a8f98\",\r\n",
      "  \"6810a15c0c86e5769a40b5b0c933778da0421f2d93f9bb57883d0534be6d8005\",\r\n",
      "  \"19aa9160b1e8a11c0a179179682a96deba28d469ba25a1f72287ada9be56c460\",\r\n",
      "  \"1a0ed711066a8b29b4d54c9463d26ec59506b7974a8e8b53454ad4cf876977e9\",\r\n",
      "  \"6333d79a79200c18d4da91b937e593533e5396ba3fce256b71374a79e76e1511\",\r\n",
      "  \"18d28a1a241e08a34b88bccf86dc742ef098ee48820ab093660c518c1f8af1d6\",\r\n",
      "  \"4dd2bc896f1023ae9a1fa6a273d18dda40979ed931f96a28fc5fd7b48bf0fc12\",\r\n",
      "  \"7c028b0b009f2413b01ddfba13f6139c8aa15777db06667f466ce9798ca2a0b4\",\r\n",
      "  \"57608c4aeeb0c6e45951d035ab6985592098b579b6b7903577962d786d2924ea\",\r\n",
      "  \"373f65bc0a78cd5162dd6a130d293e034ca8359ca73756556f93a26260926b97\",\r\n",
      "  \"44e51a276e1e12a76ff3d848d049d1752087f93420db5071b260c6266095c638\",\r\n",
      "  \"61c0e09c016ad052de1633bdb5f07dff97ad6f533c34a308807a29d10932af42\",\r\n",
      "  \"277acda117f76a5263f409824779a6012b79717ff8cd6dda0280e0b2e19d352f\",\r\n",
      "  \"6f662cf4d8b231f73a95ae0480f765780c4010ce13dab3e807e1da11a5b41f5e\",\r\n",
      "  \"65512258e2ae7e0bb1cd23bc356d27d7114f3dde982638333bac80839bf32efa\",\r\n",
      "  \"60df828f4100087bb8003716744daa3d0efc2d7ac21d68581e43b13d333f875d\",\r\n",
      "  \"660cd987119fd2f7fc2d1c0a5ec2ef07ea571b9b3daafe266299a9dbd25a6998\",\r\n",
      "  \"424da27bf77e65854a57b3cefd0b624a328187bc871f51c39ab658cb95ed4f49\",\r\n",
      "  \"60435fc6194f51a4467df893520598ee86edf8a26eee4f99aecae00890f09822\",\r\n",
      "  \"6ff9a53fa1adc6f34477358d81b691107cca106fbe2269164ba29f0e2b92ce9a\",\r\n",
      "  \"644e86b73e844996969c28ddb814fd8d343ae035b9401cb0e097373881e3f355\",\r\n",
      "  \"4cce6d97a02fd37d6116b30b8b8a3f2bead42ef42944a5d6022d9df93694f239\",\r\n",
      "  \"0142c45ce84b6dcae8ed2267b6fa8ea900d786fcedd7b985d3beb3c047c60f73\",\r\n",
      "  \"27c93503c026d96a087ec14d5a48e7c0febcb9e60348640d021305311c9791e9\",\r\n",
      "  \"64a81eb0a5b43cd44b8d7ba79d135343458d51dde06f3196c6fd7a6fafa3b564\",\r\n",
      "  \"5e33d22243644b2351eb8ee5a08446b30144ed3d68b354c7fb6326a3ed2d25aa\",\r\n",
      "  \"662375751ccaf1646c2eed07eef9b56e77e24d71386c0eb9b9f8e890b5cf3a87\",\r\n",
      "  \"5b24432dfa325653310d1a6175a36244f5fbc546a2b71a73843c678c02cbd317\",\r\n",
      "  \"558ace3c7c72a8824db5fc8344743e193b0d7d1721cedbe429a46be9da2bb70a\",\r\n",
      "  \"5e96e9992c717eb2768d2f885e8ff84d10c858019bef4e9ddc5087e6904cc66c\",\r\n",
      "  \"44c0ddc0f105a474b26a5701379781b2b7a3c1af74d5e2ccfe9e48cd18e75f84\",\r\n",
      "  \"70c682ac801f63c2d254522dd0d222ab072a3b30cc2c59169faf58822d22f931\",\r\n",
      "  \"277632323647fe03cc30346d6fa81c251732a6ea77ff2defd43fcb1bb5e20752\",\r\n",
      "  \"40831875c310f6c2079d61cde6c8870adb841f4d9489a1cd5426ce86385e8a70\",\r\n",
      "  \"183249a8737a1481806006a400f3835a0d007390a796701acd0aceaa9b1c4eef\",\r\n",
      "  \"22448102574609db01a3a472f991a6203ca4689e0aecf5bfdf69a791327ac7a3\",\r\n",
      "  \"1a00d54456051289c4dd1547ce6386eebbf489e9f65ef08fa90c0aff2309443f\",\r\n",
      "  \"14c19399375a16b2a3fc8beb9118aa766f089b159d23213f3a331e619d74a0a2\",\r\n",
      "  \"31d475e15a3eaef4a89dfa4fa95165b1e12521b2620d581cc58dbd1f5a1d090f\",\r\n",
      "  \"724c6b4820b71e82cdb30ec56fc93858d5ac45cc54ef670f24beb6c94d392db6\",\r\n",
      "  \"262e7ea8aee6d6c0b3a419b397ffb94a7122b9722d568e7cb218a23ef5dc11df\",\r\n",
      "  \"717b0cb5939159cb3897be60014c00f850e8785bf474f8cef83369306fdd9e89\",\r\n",
      "  \"1f988ede510dd24d62bc0f6adf47b524039e286a8d84a148448468619fb35cd1\",\r\n",
      "  \"23bcd9a74f6fdfef0943c8ae1665c04c38c057b8f93c22e4460d30c1cb6fb9e1\",\r\n",
      "  \"305681be14d819a6ffa2f31c962238e0febb46f240b7b1bcf70f271db2d30538\",\r\n",
      "  \"27ac32480ec2a30e6e2083e0490308adefea58c51d92a302b4d81b516554b87d\",\r\n",
      "  \"4c4c52db08b88fffa147edf9c38badb205ec08d9d8327d8c04a6940f436ab4cb\",\r\n",
      "  \"518b3b0bb1e32c495e7cbc00acbea649f87b1cc066728fb04dd32ffd0f20756b\",\r\n",
      "  \"269e22045418351aa3a1f20d8b0dd2aa71e5f586b46562931dd8d6384bb48781\",\r\n",
      "  \"799ac09d450ebabaa8af556f70cfcdc50838b87b3545af71cd5e944af92a5bb1\",\r\n",
      "  \"262d6d29ba6a9e88b4319697388dca2f6292055dbb65a60fd83d84fa2828bf59\",\r\n",
      "  \"1d09d6fb76c319afc8e7ad434b5b712c4826dd312fd9ad869b564eca9069372f\",\r\n",
      "  \"2e529bc2f99d3c74f00da1ef2c589dd5cbd158c0fcbf783ce702f094e7b8b81b\",\r\n",
      "  \"244fe73901d2949cc3ae8ccd6232753bcf278fae8da4ed1709816fcad5414dfb\",\r\n",
      "  \"7c7ce28c60082db6d025d40473e2c31863c5cc62dc28da5428415a8b865350e8\",\r\n",
      "  \"6c3a6d6cf1720f0fe9d1b88a277d41a86d92f553874343ad772bf4bf502c6e57\",\r\n",
      "  \"566f57d848bbd37a6c4da86eab10a0f15253ef38a43b49eabaf08f9e5d22a9c5\",\r\n",
      "  \"371b763c611449ec77bc47edd42bf4083ae182b383e6419f2fca446457ec48c7\",\r\n",
      "  \"2997f99c35cd5c5173e8e5599b238b752b4b078552d31861d67c08f3bcb744db\",\r\n",
      "  \"2d6b365723efcac708a4550d5e066c631322c639206ce82b186e2d30960c0bf1\",\r\n",
      "  \"5ae92c02c60847ed16ba4468e65673249d948e3a35f650f6781faab1e7cea60a\",\r\n",
      "  \"1368cc6dceb0f57fe05b1aa017037300d4178790100b70b2b412e92d2595d581\",\r\n",
      "  \"005a6fbb89c681151cb9c687d18987eed34b89533495ea34700fbe1fb27144ce\",\r\n",
      "  \"30f904f39eb50724e7dd3db5fcff3c3702e2b3d8393b9ff1ec67274a3b51c657\",\r\n",
      "  \"6ef38b89e6d5a49cbbec9634a97fc4c5f33712fcc2ea93b14ff9d55bdf1387a4\",\r\n",
      "  \"6009f20a9f068070e41efe3ec1e15ebf85c5696237accfe574b8b214d765dae2\",\r\n",
      "  \"657c40218e9148014ed0187f4cc5d351a27fcfff7a389c8692db5ef69dcc2d54\",\r\n",
      "  \"66f56a80c1bdec348fdce5843bd4ed0f4665a3f50990498c08bcb8e3fe58d229\",\r\n",
      "  \"430badb37d583e2e28570abb1221c4b32b98940aa13f3fdfe19008f358ac0352\",\r\n",
      "  \"50bef7693745ec6368344989cf901880310d78f1107b29bee6657cecb0e4646e\",\r\n",
      "  \"285c8e269c7b92d0f3e18516bb6ab8cc9a5bf8bb76af180f06bd138f7aeaaeba\",\r\n",
      "  \"03917044bdabcc763bd9280f20c2f5a6a8818ce8bd25bddfcc7fe64cddce3afa\",\r\n",
      "  \"455e2f895405277aad537a170da6cc42b8cc0009b0d3e74573598b6351e4aa43\",\r\n",
      "  \"575d56a485d30e5371b563cec07dc79d615ad3c25a7ea7585bcc205ceca6a11b\",\r\n",
      "  \"14192da81fde177b7a4e6243e96c83531d4804f406856efe146511bf105e7e5b\",\r\n",
      "  \"682720637070e6cb838fcf2aa1b0f2d1c7b1dfdbd38d87bc1646a40aa43e4437\",\r\n",
      "  \"19768bc4f83bf975fa6e3de9313837940e728cc92bf9787fd96119e56cddc2ca\",\r\n",
      "  \"4b0434bd725858354f645889c3aeb94c5d3dcc420d760395e748394020311ddf\",\r\n",
      "  \"366e3a7c0f3fa172a560bf0ac72deba04d0ce9ae486f49056c9b6ce16161c544\",\r\n",
      "  \"66710aa0ac6a14c696247c31a2dca67eabe4ee6cafa57a6de5e1cf56197823c6\",\r\n",
      "  \"087027ed418980e0b22a016ece4454f685190de4da64eae97484387fb41b76c7\",\r\n",
      "  \"14bcaaed12a8fca7f117fc29ed6d479008b431f64f6eb09c95096a7a176354f0\",\r\n",
      "  \"5d57c63f9eb5ceb00dbe10fae5e49a3e3f91285e3b0fff555e532e9aee79c6bd\",\r\n",
      "  \"07c0d0457cd92852bbb83b33c9a90384095b1f235784e8298ab3174f5b582ba2\",\r\n",
      "  \"2d6d9f715cfcce29c2bdec07e8a4e34b8840f796564e8cac0b240561cf0c90da\",\r\n",
      "  \"20bc3e5d8e3a2c07a79fe9e8532606b91d9932ba3a8d810c806271a72d55e074\",\r\n",
      "  \"0223af4fb0d642371f7c26ba49e6fcc10e09fd88b50505b3192c854cf5414e8e\",\r\n",
      "  \"200a09e4d72fe76984f1260982cd53643dcc1753e66366cebb821a1e24ca872e\",\r\n",
      "  \"788487e88065e2c2f2d97b481145957134d7d1f31601da2326e1e56f146fcd5a\",\r\n",
      "  \"73a39d981ff8fd40b162be8f70e3e88608aff5657f3d11a329531de73ee710f3\"\r\n",
      "]\r\n"
     ]
    }
   ],
   "source": [
    "# mine 100 blocks\n",
    "!bitcoin-cli -regtest -rpcwallet=$WALLET_NAME generatetoaddress 100 \"bcrt1qdxcqx57uqr4useugqk3m3qs0xu7skxfc6cdsm6\""
   ]
  },
  {
   "cell_type": "code",
   "execution_count": 16,
   "id": "1dbbdbe7",
   "metadata": {},
   "outputs": [
    {
     "name": "stdout",
     "output_type": "stream",
     "text": [
      "{\r\n",
      "  \"walletname\": \"GaurabStha\",\r\n",
      "  \"walletversion\": 169900,\r\n",
      "  \"balance\": 5000.00000000,\r\n",
      "  \"unconfirmed_balance\": 0.00000000,\r\n",
      "  \"immature_balance\": 3725.00000000,\r\n",
      "  \"txcount\": 200,\r\n",
      "  \"keypoololdest\": 1676726571,\r\n",
      "  \"keypoolsize\": 999,\r\n",
      "  \"hdseedid\": \"7cdae632df120f0b7f6de8dcd6984280c570ed44\",\r\n",
      "  \"keypoolsize_hd_internal\": 1000,\r\n",
      "  \"paytxfee\": 0.00000000,\r\n",
      "  \"private_keys_enabled\": true,\r\n",
      "  \"avoid_reuse\": false,\r\n",
      "  \"scanning\": false\r\n",
      "}\r\n"
     ]
    }
   ],
   "source": [
    "#To get wallet info\n",
    "!bitcoin-cli -regtest -rpcwallet=$WALLET_NAME getwalletinfo"
   ]
  },
  {
   "cell_type": "code",
   "execution_count": 17,
   "id": "36bf28c6",
   "metadata": {},
   "outputs": [
    {
     "name": "stdout",
     "output_type": "stream",
     "text": [
      "5000.00000000\r\n"
     ]
    }
   ],
   "source": [
    "# check balance of the wallet after mining some blocks\n",
    "!bitcoin-cli -regtest -rpcwallet=$WALLET_NAME getbalance"
   ]
  },
  {
   "cell_type": "code",
   "execution_count": 20,
   "id": "8f20ee55",
   "metadata": {},
   "outputs": [],
   "source": [
    "#Instantiate new wallet to do some transaction\n",
    "New_WALLET_NAME = \"SabinStha\""
   ]
  },
  {
   "cell_type": "code",
   "execution_count": 21,
   "id": "54cf3cd8",
   "metadata": {},
   "outputs": [
    {
     "name": "stdout",
     "output_type": "stream",
     "text": [
      "{\r\n",
      "  \"name\": \"SabinStha\",\r\n",
      "  \"warning\": \"\"\r\n",
      "}\r\n"
     ]
    }
   ],
   "source": [
    "# create a new 2nd wallet\n",
    "!bitcoin-cli -regtest createwallet $New_WALLET_NAME false"
   ]
  },
  {
   "cell_type": "code",
   "execution_count": 22,
   "id": "02113c24",
   "metadata": {},
   "outputs": [
    {
     "name": "stdout",
     "output_type": "stream",
     "text": [
      "0.00000000\r\n"
     ]
    }
   ],
   "source": [
    "# check balance\n",
    "!bitcoin-cli -regtest -rpcwallet=$NEW_WALLET_NAME getbalance"
   ]
  },
  {
   "cell_type": "code",
   "execution_count": 50,
   "id": "f7b7bceb",
   "metadata": {},
   "outputs": [
    {
     "name": "stdout",
     "output_type": "stream",
     "text": [
      "bcrt1qzqgtyngfjjg7ufysv26vwdyj4p0v2veqtgnqwd\r\n"
     ]
    }
   ],
   "source": [
    "#get wallet address for the second wallet\n",
    "!bitcoin-cli -regtest -rpcwallet=$NEW_WALLET_NAME getnewaddress"
   ]
  },
  {
   "cell_type": "code",
   "execution_count": 53,
   "id": "e0d48ceb",
   "metadata": {},
   "outputs": [
    {
     "name": "stdout",
     "output_type": "stream",
     "text": [
      "true\r\n"
     ]
    }
   ],
   "source": [
    "# set some transaction fee\n",
    "!bitcoin-cli -regtest -rpcwallet=$WALLET_NAME settxfee 0.0002"
   ]
  },
  {
   "cell_type": "code",
   "execution_count": 58,
   "id": "745949fb",
   "metadata": {},
   "outputs": [
    {
     "name": "stdout",
     "output_type": "stream",
     "text": [
      "fdf0d968a78382307c0a36915a37d66d1f2ecd33e247460971292f8fa14ff45e\r\n"
     ]
    }
   ],
   "source": [
    "# do the transaction\n",
    "!bitcoin-cli -regtest -rpcwallet=$WALLET_NAME sendtoaddress bcrt1qzqgtyngfjjg7ufysv26vwdyj4p0v2veqtgnqwd 20 "
   ]
  },
  {
   "cell_type": "code",
   "execution_count": 62,
   "id": "52393b50",
   "metadata": {},
   "outputs": [
    {
     "name": "stdout",
     "output_type": "stream",
     "text": [
      "{\r\n",
      "  \"walletname\": \"\",\r\n",
      "  \"walletversion\": 169900,\r\n",
      "  \"balance\": 0.00000000,\r\n",
      "  \"unconfirmed_balance\": 40.00000000,\r\n",
      "  \"immature_balance\": 0.00000000,\r\n",
      "  \"txcount\": 2,\r\n",
      "  \"keypoololdest\": 1676704290,\r\n",
      "  \"keypoolsize\": 999,\r\n",
      "  \"hdseedid\": \"772ff4f085089a6e48906e415d55998037261020\",\r\n",
      "  \"keypoolsize_hd_internal\": 1000,\r\n",
      "  \"paytxfee\": 0.00000000,\r\n",
      "  \"private_keys_enabled\": true,\r\n",
      "  \"avoid_reuse\": false,\r\n",
      "  \"scanning\": false\r\n",
      "}\r\n"
     ]
    }
   ],
   "source": [
    "!bitcoin-cli -regtest -rpcwallet=$NEW_WALLET_NAME getwalletinfo"
   ]
  },
  {
   "cell_type": "code",
   "execution_count": 63,
   "id": "eb6b269f",
   "metadata": {},
   "outputs": [
    {
     "name": "stdout",
     "output_type": "stream",
     "text": [
      "4959.99994360\r\n"
     ]
    }
   ],
   "source": [
    "# check balance of the 1st wallet after transaction\n",
    "!bitcoin-cli -regtest -rpcwallet=$WALLET_NAME getbalance"
   ]
  },
  {
   "cell_type": "code",
   "execution_count": 64,
   "id": "9a37a0c5",
   "metadata": {},
   "outputs": [
    {
     "name": "stdout",
     "output_type": "stream",
     "text": [
      "0.00000000\r\n"
     ]
    }
   ],
   "source": [
    "# check balance of the second wallet\n",
    "!bitcoin-cli -regtest -rpcwallet=$NEW_WALLET_NAME getbalance"
   ]
  }
 ],
 "metadata": {
  "kernelspec": {
   "display_name": "Python 3 (ipykernel)",
   "language": "python",
   "name": "python3"
  },
  "language_info": {
   "codemirror_mode": {
    "name": "ipython",
    "version": 3
   },
   "file_extension": ".py",
   "mimetype": "text/x-python",
   "name": "python",
   "nbconvert_exporter": "python",
   "pygments_lexer": "ipython3",
   "version": "3.9.13"
  }
 },
 "nbformat": 4,
 "nbformat_minor": 5
}
